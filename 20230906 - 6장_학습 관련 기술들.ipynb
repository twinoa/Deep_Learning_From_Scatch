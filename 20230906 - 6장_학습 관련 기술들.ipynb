{
 "cells": [
  {
   "attachments": {},
   "cell_type": "markdown",
   "metadata": {},
   "source": [
    "## 기본 모듈 import"
   ]
  },
  {
   "cell_type": "code",
   "execution_count": 2,
   "metadata": {},
   "outputs": [],
   "source": [
    "import numpy as np"
   ]
  },
  {
   "attachments": {},
   "cell_type": "markdown",
   "metadata": {},
   "source": [
    "## 확률적 경사 하강법 (SGD)\n",
    "미분한 값 (기울기)를 기반으로 parameter update"
   ]
  },
  {
   "cell_type": "code",
   "execution_count": 1,
   "metadata": {},
   "outputs": [],
   "source": [
    "class SGD:\n",
    "    def __init__(self, lr = 0.01) :\n",
    "        self.lr = lr\n",
    "\n",
    "    def update(self, params, grads) :\n",
    "        for key in params.keys():\n",
    "            params[key] -= self.lr * grads[key]"
   ]
  },
  {
   "attachments": {},
   "cell_type": "markdown",
   "metadata": {},
   "source": [
    "## 모멘텀 기법 (Momentum)\n",
    "물리학 가속도와 같은 원리, 기울기가 작은 축으로 이동시에는 효과적임, 기울기가 큰 축으로는 안정적이지 않음"
   ]
  },
  {
   "cell_type": "code",
   "execution_count": 3,
   "metadata": {},
   "outputs": [],
   "source": [
    "class Momentum:\n",
    "    def __init__(self, lr=0.01, momentum=0.9):\n",
    "        self.lr = lr\n",
    "        self.momentum = momentum\n",
    "        self.v = None\n",
    "\n",
    "    def update(self, params, grads):\n",
    "        if self.v is None :\n",
    "            self.v = {}\n",
    "            for key, val in params.items():\n",
    "                self.v[key] = np.zeros_like(val)\n",
    "    \n",
    "        for key in params.keys():\n",
    "            self.v[key] - self.momentum * self.v[key] - self.lr*grads[key]\n",
    "            params[key] += self.v[key]"
   ]
  },
  {
   "attachments": {},
   "cell_type": "markdown",
   "metadata": {},
   "source": [
    "## AdaGrad\n",
    "학습률 감소 기법을 사용하여 학습률을 매개변수마다 다르게 적용하며 많이 움직인 원소는 학습률이 작아짐"
   ]
  },
  {
   "cell_type": "code",
   "execution_count": 4,
   "metadata": {},
   "outputs": [],
   "source": [
    "class AdaGrad:\n",
    "    def __init__(self, lr=0.01):\n",
    "        self.lr = lr\n",
    "        self.h = None\n",
    "    \n",
    "    def update(self, params, grads):\n",
    "        if self.h is None:\n",
    "            self.h = {}\n",
    "            for key, val in params.items():\n",
    "                self.h[key] = np.zeros_like(val)\n",
    "\n",
    "        for key in params.keys():\n",
    "            self.h[key] += grads[key] * grads[key]\n",
    "            params[key] -= self.lr * grads[key] / (np.sqrt(self.h[key]) + 1e-7)"
   ]
  },
  {
   "attachments": {},
   "cell_type": "markdown",
   "metadata": {},
   "source": [
    "## Adam\n",
    "Momentum과 AdaGrad의 이점을 합친 기법"
   ]
  },
  {
   "cell_type": "code",
   "execution_count": 5,
   "metadata": {},
   "outputs": [],
   "source": [
    "class Adam:\n",
    "    def __init__(self, lr=0.001, beta1=0.9, beta2=0.999):\n",
    "        self.lr = lr\n",
    "        self.beta1 = beta1\n",
    "        self.beta2 = beta2\n",
    "        self.iter = 0\n",
    "        self.m = None\n",
    "        self.v = None\n",
    "        \n",
    "    def update(self, params, grads):\n",
    "        if self.m is None:\n",
    "            self.m, self.v = {}, {}\n",
    "            for key, val in params.items():\n",
    "                self.m[key] = np.zeros_like(val)\n",
    "                self.v[key] = np.zeros_like(val)\n",
    "        \n",
    "        self.iter += 1\n",
    "        lr_t  = self.lr * np.sqrt(1.0 - self.beta2**self.iter) / (1.0 - self.beta1**self.iter)         \n",
    "        \n",
    "        for key in params.keys():\n",
    "            self.m[key] += (1 - self.beta1) * (grads[key] - self.m[key])\n",
    "            self.v[key] += (1 - self.beta2) * (grads[key]**2 - self.v[key])\n",
    "            params[key] -= lr_t * self.m[key] / (np.sqrt(self.v[key]) + 1e-7)"
   ]
  },
  {
   "attachments": {},
   "cell_type": "markdown",
   "metadata": {},
   "source": [
    "## 가중치의 초기값\n",
    "1. 활성화 함수로 Relu를 사용할 때는 He 초기값 사용 (Relu는 음수 영역은 0이기에 Xavier 초기값보다 2배 더 많이)\n",
    "2. sigmoid, tanh 등의 S자 모양 곡선일 때는 Xavier 초기값 사용"
   ]
  },
  {
   "cell_type": "code",
   "execution_count": 10,
   "metadata": {},
   "outputs": [
    {
     "data": {
      "image/png": "[encoded data removed]",
      "text/plain": [
       "<Figure size 432x288 with 5 Axes>"
      ]
     },
     "metadata": {
      "needs_background": "light"
     },
     "output_type": "display_data"
    }
   ],
   "source": [
    "# coding: utf-8\n",
    "import numpy as np\n",
    "import matplotlib.pyplot as plt\n",
    "\n",
    "\n",
    "def sigmoid(x):\n",
    "    return 1 / (1 + np.exp(-x))\n",
    "\n",
    "\n",
    "def ReLU(x):\n",
    "    return np.maximum(0, x)\n",
    "\n",
    "\n",
    "def tanh(x):\n",
    "    return np.tanh(x)\n",
    "    \n",
    "input_data = np.random.randn(1000, 100)  # 1000개의 데이터\n",
    "node_num = 100  # 각 은닉층의 노드(뉴런) 수\n",
    "hidden_layer_size = 5  # 은닉층이 5개\n",
    "activations = {}  # 이곳에 활성화 결과를 저장\n",
    "\n",
    "x = input_data\n",
    "\n",
    "for i in range(hidden_layer_size):\n",
    "    if i != 0:\n",
    "        x = activations[i-1]\n",
    "\n",
    "    # 초깃값을 다양하게 바꿔가며 실험해보자！\n",
    "    #w = np.random.randn(node_num, node_num) * 1\n",
    "    # w = np.random.randn(node_num, node_num) * 0.01\n",
    "    w = np.random.randn(node_num, node_num) * np.sqrt(1.0 / node_num)\n",
    "    # w = np.random.randn(node_num, node_num) * np.sqrt(2.0 / node_num)\n",
    "\n",
    "\n",
    "    a = np.dot(x, w)\n",
    "\n",
    "\n",
    "    # 활성화 함수도 바꿔가며 실험해보자！\n",
    "    # z = sigmoid(a)\n",
    "    z = ReLU(a)\n",
    "    # z = tanh(a)\n",
    "\n",
    "    activations[i] = z\n",
    "\n",
    "# 히스토그램 그리기\n",
    "for i, a in activations.items():\n",
    "    plt.subplot(1, len(activations), i+1)\n",
    "    plt.title(str(i+1) + \"-layer\")\n",
    "    if i != 0: plt.yticks([], [])\n",
    "    # plt.xlim(0.1, 1)\n",
    "    # plt.ylim(0, 7000)\n",
    "    plt.hist(a.flatten(), 30, range=(0,1))\n",
    "plt.show()"
   ]
  },
  {
   "attachments": {},
   "cell_type": "markdown",
   "metadata": {},
   "source": [
    "## 배치 정규화 : 각 층이 활성화를 적당히 퍼뜨리도록 강제하는 방법\n",
    "1. 학습을 빨리 진행할 수 있다. (학습 속도 개선)\n",
    "2. 초기값에 크게 의존하지 않는다.\n",
    "3. 오버피팅을 억제한다. (드롭아웃 등의 필요성 감소)"
   ]
  },
  {
   "cell_type": "code",
   "execution_count": 12,
   "metadata": {},
   "outputs": [
    {
     "name": "stdout",
     "output_type": "stream",
     "text": [
      "============== 1/16 ==============\n",
      "epoch:0 | 0.117 - 0.114\n"
     ]
    },
    {
     "name": "stderr",
     "output_type": "stream",
     "text": [
      "d:\\git\\Deep_Learning_From_Scratch\\common\\multi_layer_net_extend.py:104: RuntimeWarning: overflow encountered in square\n",
      "  weight_decay += 0.5 * self.weight_decay_lambda * np.sum(W**2)\n",
      "d:\\git\\Deep_Learning_From_Scratch\\common\\multi_layer_net_extend.py:104: RuntimeWarning: invalid value encountered in double_scalars\n",
      "  weight_decay += 0.5 * self.weight_decay_lambda * np.sum(W**2)\n"
     ]
    },
    {
     "name": "stdout",
     "output_type": "stream",
     "text": [
      "epoch:1 | 0.097 - 0.091\n",
      "epoch:2 | 0.097 - 0.122\n",
      "epoch:3 | 0.097 - 0.14\n",
      "epoch:4 | 0.097 - 0.153\n",
      "epoch:5 | 0.097 - 0.174\n",
      "epoch:6 | 0.097 - 0.195\n",
      "epoch:7 | 0.097 - 0.21\n",
      "epoch:8 | 0.097 - 0.226\n",
      "epoch:9 | 0.097 - 0.246\n",
      "epoch:10 | 0.097 - 0.262\n",
      "epoch:11 | 0.097 - 0.295\n",
      "epoch:12 | 0.097 - 0.313\n",
      "epoch:13 | 0.097 - 0.32\n",
      "epoch:14 | 0.097 - 0.353\n",
      "epoch:15 | 0.097 - 0.366\n",
      "epoch:16 | 0.097 - 0.371\n",
      "epoch:17 | 0.097 - 0.395\n",
      "epoch:18 | 0.097 - 0.41\n"
     ]
    },
    {
     "name": "stderr",
     "output_type": "stream",
     "text": [
      "No artists with labels found to put in legend.  Note that artists whose label start with an underscore are ignored when legend() is called with no argument.\n"
     ]
    },
    {
     "name": "stdout",
     "output_type": "stream",
     "text": [
      "epoch:19 | 0.097 - 0.42\n",
      "============== 2/16 ==============\n",
      "epoch:0 | 0.099 - 0.09\n"
     ]
    },
    {
     "name": "stderr",
     "output_type": "stream",
     "text": [
      "d:\\git\\Deep_Learning_From_Scratch\\common\\multi_layer_net_extend.py:104: RuntimeWarning: overflow encountered in square\n",
      "  weight_decay += 0.5 * self.weight_decay_lambda * np.sum(W**2)\n",
      "d:\\git\\Deep_Learning_From_Scratch\\common\\multi_layer_net_extend.py:104: RuntimeWarning: invalid value encountered in double_scalars\n",
      "  weight_decay += 0.5 * self.weight_decay_lambda * np.sum(W**2)\n"
     ]
    },
    {
     "name": "stdout",
     "output_type": "stream",
     "text": [
      "epoch:1 | 0.097 - 0.087\n",
      "epoch:2 | 0.097 - 0.104\n",
      "epoch:3 | 0.097 - 0.128\n",
      "epoch:4 | 0.097 - 0.159\n",
      "epoch:5 | 0.097 - 0.184\n",
      "epoch:6 | 0.097 - 0.204\n",
      "epoch:7 | 0.097 - 0.229\n",
      "epoch:8 | 0.097 - 0.254\n",
      "epoch:9 | 0.097 - 0.276\n",
      "epoch:10 | 0.097 - 0.294\n",
      "epoch:11 | 0.097 - 0.327\n",
      "epoch:12 | 0.097 - 0.34\n",
      "epoch:13 | 0.097 - 0.363\n",
      "epoch:14 | 0.097 - 0.372\n",
      "epoch:15 | 0.097 - 0.393\n",
      "epoch:16 | 0.097 - 0.419\n",
      "epoch:17 | 0.097 - 0.436\n",
      "epoch:18 | 0.097 - 0.453\n"
     ]
    },
    {
     "name": "stderr",
     "output_type": "stream",
     "text": [
      "No artists with labels found to put in legend.  Note that artists whose label start with an underscore are ignored when legend() is called with no argument.\n"
     ]
    },
    {
     "name": "stdout",
     "output_type": "stream",
     "text": [
      "epoch:19 | 0.097 - 0.475\n",
      "============== 3/16 ==============\n",
      "epoch:0 | 0.109 - 0.106\n",
      "epoch:1 | 0.383 - 0.1\n",
      "epoch:2 | 0.522 - 0.157\n",
      "epoch:3 | 0.59 - 0.181\n",
      "epoch:4 | 0.67 - 0.227\n",
      "epoch:5 | 0.727 - 0.257\n",
      "epoch:6 | 0.742 - 0.293\n",
      "epoch:7 | 0.801 - 0.333\n",
      "epoch:8 | 0.857 - 0.368\n",
      "epoch:9 | 0.884 - 0.402\n",
      "epoch:10 | 0.9 - 0.443\n",
      "epoch:11 | 0.923 - 0.482\n",
      "epoch:12 | 0.936 - 0.499\n",
      "epoch:13 | 0.947 - 0.519\n",
      "epoch:14 | 0.954 - 0.55\n",
      "epoch:15 | 0.958 - 0.57\n",
      "epoch:16 | 0.966 - 0.597\n",
      "epoch:17 | 0.973 - 0.611\n",
      "epoch:18 | 0.982 - 0.632\n"
     ]
    },
    {
     "name": "stderr",
     "output_type": "stream",
     "text": [
      "No artists with labels found to put in legend.  Note that artists whose label start with an underscore are ignored when legend() is called with no argument.\n"
     ]
    },
    {
     "name": "stdout",
     "output_type": "stream",
     "text": [
      "epoch:19 | 0.985 - 0.644\n",
      "============== 4/16 ==============\n",
      "epoch:0 | 0.111 - 0.129\n",
      "epoch:1 | 0.223 - 0.148\n",
      "epoch:2 | 0.346 - 0.218\n",
      "epoch:3 | 0.457 - 0.282\n",
      "epoch:4 | 0.538 - 0.352\n",
      "epoch:5 | 0.604 - 0.406\n",
      "epoch:6 | 0.645 - 0.465\n",
      "epoch:7 | 0.668 - 0.501\n",
      "epoch:8 | 0.71 - 0.541\n",
      "epoch:9 | 0.725 - 0.576\n",
      "epoch:10 | 0.748 - 0.607\n",
      "epoch:11 | 0.764 - 0.631\n",
      "epoch:12 | 0.768 - 0.659\n",
      "epoch:13 | 0.795 - 0.679\n",
      "epoch:14 | 0.82 - 0.699\n",
      "epoch:15 | 0.827 - 0.718\n",
      "epoch:16 | 0.831 - 0.724\n",
      "epoch:17 | 0.84 - 0.746\n",
      "epoch:18 | 0.841 - 0.757\n"
     ]
    },
    {
     "name": "stderr",
     "output_type": "stream",
     "text": [
      "No artists with labels found to put in legend.  Note that artists whose label start with an underscore are ignored when legend() is called with no argument.\n"
     ]
    },
    {
     "name": "stdout",
     "output_type": "stream",
     "text": [
      "epoch:19 | 0.864 - 0.766\n",
      "============== 5/16 ==============\n",
      "epoch:0 | 0.102 - 0.067\n",
      "epoch:1 | 0.108 - 0.127\n",
      "epoch:2 | 0.11 - 0.285\n",
      "epoch:3 | 0.114 - 0.385\n",
      "epoch:4 | 0.118 - 0.443\n",
      "epoch:5 | 0.124 - 0.502\n",
      "epoch:6 | 0.128 - 0.547\n",
      "epoch:7 | 0.131 - 0.585\n",
      "epoch:8 | 0.139 - 0.624\n",
      "epoch:9 | 0.149 - 0.657\n",
      "epoch:10 | 0.151 - 0.696\n",
      "epoch:11 | 0.157 - 0.72\n",
      "epoch:12 | 0.174 - 0.75\n",
      "epoch:13 | 0.184 - 0.774\n",
      "epoch:14 | 0.195 - 0.79\n",
      "epoch:15 | 0.214 - 0.8\n",
      "epoch:16 | 0.236 - 0.815\n",
      "epoch:17 | 0.226 - 0.828\n"
     ]
    },
    {
     "name": "stderr",
     "output_type": "stream",
     "text": [
      "No artists with labels found to put in legend.  Note that artists whose label start with an underscore are ignored when legend() is called with no argument.\n"
     ]
    },
    {
     "name": "stdout",
     "output_type": "stream",
     "text": [
      "epoch:18 | 0.237 - 0.851\n",
      "epoch:19 | 0.258 - 0.857\n",
      "============== 6/16 ==============\n",
      "epoch:0 | 0.118 - 0.126\n",
      "epoch:1 | 0.117 - 0.226\n",
      "epoch:2 | 0.117 - 0.462\n",
      "epoch:3 | 0.117 - 0.592\n",
      "epoch:4 | 0.117 - 0.676\n",
      "epoch:5 | 0.117 - 0.732\n",
      "epoch:6 | 0.117 - 0.775\n",
      "epoch:7 | 0.117 - 0.805\n",
      "epoch:8 | 0.117 - 0.824\n",
      "epoch:9 | 0.117 - 0.851\n",
      "epoch:10 | 0.117 - 0.862\n",
      "epoch:11 | 0.117 - 0.875\n",
      "epoch:12 | 0.117 - 0.888\n",
      "epoch:13 | 0.117 - 0.899\n",
      "epoch:14 | 0.117 - 0.908\n",
      "epoch:15 | 0.117 - 0.921\n",
      "epoch:16 | 0.117 - 0.932\n",
      "epoch:17 | 0.117 - 0.941\n"
     ]
    },
    {
     "name": "stderr",
     "output_type": "stream",
     "text": [
      "No artists with labels found to put in legend.  Note that artists whose label start with an underscore are ignored when legend() is called with no argument.\n"
     ]
    },
    {
     "name": "stdout",
     "output_type": "stream",
     "text": [
      "epoch:18 | 0.117 - 0.948\n",
      "epoch:19 | 0.117 - 0.953\n",
      "============== 7/16 ==============\n",
      "epoch:0 | 0.1 - 0.099\n",
      "epoch:1 | 0.116 - 0.312\n",
      "epoch:2 | 0.116 - 0.6\n",
      "epoch:3 | 0.116 - 0.709\n",
      "epoch:4 | 0.116 - 0.775\n",
      "epoch:5 | 0.117 - 0.834\n",
      "epoch:6 | 0.117 - 0.858\n",
      "epoch:7 | 0.117 - 0.875\n",
      "epoch:8 | 0.116 - 0.897\n",
      "epoch:9 | 0.116 - 0.916\n",
      "epoch:10 | 0.116 - 0.934\n",
      "epoch:11 | 0.116 - 0.941\n",
      "epoch:12 | 0.118 - 0.951\n",
      "epoch:13 | 0.117 - 0.96\n",
      "epoch:14 | 0.117 - 0.965\n",
      "epoch:15 | 0.117 - 0.971\n",
      "epoch:16 | 0.117 - 0.979\n",
      "epoch:17 | 0.117 - 0.981\n"
     ]
    },
    {
     "name": "stderr",
     "output_type": "stream",
     "text": [
      "No artists with labels found to put in legend.  Note that artists whose label start with an underscore are ignored when legend() is called with no argument.\n"
     ]
    },
    {
     "name": "stdout",
     "output_type": "stream",
     "text": [
      "epoch:18 | 0.117 - 0.988\n",
      "epoch:19 | 0.117 - 0.992\n",
      "============== 8/16 ==============\n",
      "epoch:0 | 0.116 - 0.123\n",
      "epoch:1 | 0.117 - 0.281\n",
      "epoch:2 | 0.117 - 0.602\n",
      "epoch:3 | 0.116 - 0.704\n",
      "epoch:4 | 0.117 - 0.782\n",
      "epoch:5 | 0.117 - 0.822\n",
      "epoch:6 | 0.117 - 0.88\n",
      "epoch:7 | 0.117 - 0.915\n",
      "epoch:8 | 0.117 - 0.948\n",
      "epoch:9 | 0.117 - 0.962\n",
      "epoch:10 | 0.117 - 0.979\n",
      "epoch:11 | 0.117 - 0.982\n",
      "epoch:12 | 0.116 - 0.988\n",
      "epoch:13 | 0.116 - 0.989\n",
      "epoch:14 | 0.116 - 0.993\n",
      "epoch:15 | 0.116 - 0.995\n",
      "epoch:16 | 0.116 - 0.996\n",
      "epoch:17 | 0.116 - 0.996\n",
      "epoch:18 | 0.116 - 0.997\n"
     ]
    },
    {
     "name": "stderr",
     "output_type": "stream",
     "text": [
      "No artists with labels found to put in legend.  Note that artists whose label start with an underscore are ignored when legend() is called with no argument.\n"
     ]
    },
    {
     "name": "stdout",
     "output_type": "stream",
     "text": [
      "epoch:19 | 0.116 - 0.997\n",
      "============== 9/16 ==============\n",
      "epoch:0 | 0.117 - 0.12\n",
      "epoch:1 | 0.116 - 0.521\n",
      "epoch:2 | 0.116 - 0.737\n",
      "epoch:3 | 0.116 - 0.804\n",
      "epoch:4 | 0.116 - 0.848\n",
      "epoch:5 | 0.117 - 0.914\n",
      "epoch:6 | 0.117 - 0.962\n",
      "epoch:7 | 0.117 - 0.961\n",
      "epoch:8 | 0.117 - 0.983\n",
      "epoch:9 | 0.117 - 0.99\n",
      "epoch:10 | 0.117 - 0.993\n",
      "epoch:11 | 0.117 - 0.995\n",
      "epoch:12 | 0.117 - 0.997\n",
      "epoch:13 | 0.117 - 0.996\n",
      "epoch:14 | 0.117 - 0.997\n",
      "epoch:15 | 0.116 - 0.998\n",
      "epoch:16 | 0.116 - 0.998\n",
      "epoch:17 | 0.116 - 0.998\n",
      "epoch:18 | 0.116 - 0.997\n"
     ]
    },
    {
     "name": "stderr",
     "output_type": "stream",
     "text": [
      "No artists with labels found to put in legend.  Note that artists whose label start with an underscore are ignored when legend() is called with no argument.\n"
     ]
    },
    {
     "name": "stdout",
     "output_type": "stream",
     "text": [
      "epoch:19 | 0.117 - 0.999\n",
      "============== 10/16 ==============\n",
      "epoch:0 | 0.116 - 0.099\n",
      "epoch:1 | 0.1 - 0.729\n",
      "epoch:2 | 0.117 - 0.806\n",
      "epoch:3 | 0.117 - 0.849\n",
      "epoch:4 | 0.117 - 0.862\n",
      "epoch:5 | 0.117 - 0.861\n",
      "epoch:6 | 0.117 - 0.953\n",
      "epoch:7 | 0.117 - 0.968\n",
      "epoch:8 | 0.117 - 0.972\n",
      "epoch:9 | 0.117 - 0.986\n",
      "epoch:10 | 0.117 - 0.992\n",
      "epoch:11 | 0.117 - 0.989\n",
      "epoch:12 | 0.117 - 0.991\n",
      "epoch:13 | 0.117 - 0.965\n",
      "epoch:14 | 0.117 - 0.988\n",
      "epoch:15 | 0.117 - 0.996\n",
      "epoch:16 | 0.117 - 0.995\n",
      "epoch:17 | 0.117 - 0.999\n",
      "epoch:18 | 0.117 - 0.992\n"
     ]
    },
    {
     "name": "stderr",
     "output_type": "stream",
     "text": [
      "No artists with labels found to put in legend.  Note that artists whose label start with an underscore are ignored when legend() is called with no argument.\n"
     ]
    },
    {
     "name": "stdout",
     "output_type": "stream",
     "text": [
      "epoch:19 | 0.117 - 1.0\n",
      "============== 11/16 ==============\n",
      "epoch:0 | 0.116 - 0.107\n",
      "epoch:1 | 0.116 - 0.536\n",
      "epoch:2 | 0.116 - 0.65\n",
      "epoch:3 | 0.117 - 0.723\n",
      "epoch:4 | 0.117 - 0.757\n",
      "epoch:5 | 0.117 - 0.717\n",
      "epoch:6 | 0.117 - 0.926\n",
      "epoch:7 | 0.117 - 0.943\n",
      "epoch:8 | 0.116 - 0.961\n",
      "epoch:9 | 0.116 - 0.982\n",
      "epoch:10 | 0.117 - 0.974\n",
      "epoch:11 | 0.117 - 0.988\n",
      "epoch:12 | 0.116 - 0.989\n",
      "epoch:13 | 0.116 - 0.99\n",
      "epoch:14 | 0.116 - 0.992\n",
      "epoch:15 | 0.117 - 0.991\n",
      "epoch:16 | 0.117 - 0.992\n",
      "epoch:17 | 0.117 - 0.993\n"
     ]
    },
    {
     "name": "stderr",
     "output_type": "stream",
     "text": [
      "No artists with labels found to put in legend.  Note that artists whose label start with an underscore are ignored when legend() is called with no argument.\n"
     ]
    },
    {
     "name": "stdout",
     "output_type": "stream",
     "text": [
      "epoch:18 | 0.117 - 0.964\n",
      "epoch:19 | 0.117 - 0.983\n",
      "============== 12/16 ==============\n",
      "epoch:0 | 0.087 - 0.178\n",
      "epoch:1 | 0.117 - 0.461\n",
      "epoch:2 | 0.117 - 0.651\n",
      "epoch:3 | 0.117 - 0.667\n",
      "epoch:4 | 0.117 - 0.749\n",
      "epoch:5 | 0.117 - 0.761\n",
      "epoch:6 | 0.117 - 0.775\n",
      "epoch:7 | 0.117 - 0.77\n",
      "epoch:8 | 0.117 - 0.796\n",
      "epoch:9 | 0.117 - 0.752\n",
      "epoch:10 | 0.117 - 0.748\n",
      "epoch:11 | 0.117 - 0.794\n",
      "epoch:12 | 0.117 - 0.799\n",
      "epoch:13 | 0.117 - 0.796\n",
      "epoch:14 | 0.117 - 0.799\n",
      "epoch:15 | 0.117 - 0.8\n",
      "epoch:16 | 0.117 - 0.8\n",
      "epoch:17 | 0.117 - 0.8\n",
      "epoch:18 | 0.117 - 0.8\n"
     ]
    },
    {
     "name": "stderr",
     "output_type": "stream",
     "text": [
      "No artists with labels found to put in legend.  Note that artists whose label start with an underscore are ignored when legend() is called with no argument.\n"
     ]
    },
    {
     "name": "stdout",
     "output_type": "stream",
     "text": [
      "epoch:19 | 0.117 - 0.8\n",
      "============== 13/16 ==============\n",
      "epoch:0 | 0.092 - 0.15\n",
      "epoch:1 | 0.116 - 0.562\n",
      "epoch:2 | 0.116 - 0.658\n",
      "epoch:3 | 0.116 - 0.744\n",
      "epoch:4 | 0.116 - 0.716\n",
      "epoch:5 | 0.116 - 0.845\n",
      "epoch:6 | 0.116 - 0.863\n",
      "epoch:7 | 0.116 - 0.872\n",
      "epoch:8 | 0.116 - 0.873\n",
      "epoch:9 | 0.116 - 0.882\n",
      "epoch:10 | 0.116 - 0.89\n",
      "epoch:11 | 0.116 - 0.892\n",
      "epoch:12 | 0.117 - 0.891\n",
      "epoch:13 | 0.117 - 0.893\n",
      "epoch:14 | 0.117 - 0.893\n",
      "epoch:15 | 0.117 - 0.892\n",
      "epoch:16 | 0.117 - 0.895\n",
      "epoch:17 | 0.117 - 0.893\n",
      "epoch:18 | 0.117 - 0.896\n"
     ]
    },
    {
     "name": "stderr",
     "output_type": "stream",
     "text": [
      "No artists with labels found to put in legend.  Note that artists whose label start with an underscore are ignored when legend() is called with no argument.\n"
     ]
    },
    {
     "name": "stdout",
     "output_type": "stream",
     "text": [
      "epoch:19 | 0.117 - 0.894\n",
      "============== 14/16 ==============\n",
      "epoch:0 | 0.092 - 0.113\n",
      "epoch:1 | 0.116 - 0.425\n",
      "epoch:2 | 0.117 - 0.348\n",
      "epoch:3 | 0.117 - 0.485\n",
      "epoch:4 | 0.117 - 0.507\n",
      "epoch:5 | 0.117 - 0.461\n",
      "epoch:6 | 0.117 - 0.507\n",
      "epoch:7 | 0.117 - 0.507\n",
      "epoch:8 | 0.117 - 0.517\n",
      "epoch:9 | 0.117 - 0.505\n",
      "epoch:10 | 0.117 - 0.52\n",
      "epoch:11 | 0.116 - 0.507\n",
      "epoch:12 | 0.116 - 0.524\n",
      "epoch:13 | 0.116 - 0.524\n",
      "epoch:14 | 0.117 - 0.52\n",
      "epoch:15 | 0.116 - 0.533\n",
      "epoch:16 | 0.116 - 0.537\n",
      "epoch:17 | 0.116 - 0.554\n",
      "epoch:18 | 0.117 - 0.498\n"
     ]
    },
    {
     "name": "stderr",
     "output_type": "stream",
     "text": [
      "No artists with labels found to put in legend.  Note that artists whose label start with an underscore are ignored when legend() is called with no argument.\n"
     ]
    },
    {
     "name": "stdout",
     "output_type": "stream",
     "text": [
      "epoch:19 | 0.116 - 0.562\n",
      "============== 15/16 ==============\n",
      "epoch:0 | 0.092 - 0.11\n",
      "epoch:1 | 0.117 - 0.272\n",
      "epoch:2 | 0.117 - 0.408\n",
      "epoch:3 | 0.117 - 0.434\n",
      "epoch:4 | 0.117 - 0.497\n",
      "epoch:5 | 0.117 - 0.485\n",
      "epoch:6 | 0.117 - 0.486\n",
      "epoch:7 | 0.116 - 0.5\n",
      "epoch:8 | 0.116 - 0.504\n",
      "epoch:9 | 0.116 - 0.504\n",
      "epoch:10 | 0.116 - 0.501\n",
      "epoch:11 | 0.116 - 0.502\n",
      "epoch:12 | 0.116 - 0.504\n",
      "epoch:13 | 0.116 - 0.504\n",
      "epoch:14 | 0.116 - 0.507\n",
      "epoch:15 | 0.116 - 0.503\n",
      "epoch:16 | 0.116 - 0.5\n",
      "epoch:17 | 0.116 - 0.512\n",
      "epoch:18 | 0.116 - 0.506\n"
     ]
    },
    {
     "name": "stderr",
     "output_type": "stream",
     "text": [
      "No artists with labels found to put in legend.  Note that artists whose label start with an underscore are ignored when legend() is called with no argument.\n"
     ]
    },
    {
     "name": "stdout",
     "output_type": "stream",
     "text": [
      "epoch:19 | 0.116 - 0.498\n",
      "============== 16/16 ==============\n",
      "epoch:0 | 0.105 - 0.147\n",
      "epoch:1 | 0.116 - 0.282\n",
      "epoch:2 | 0.117 - 0.373\n",
      "epoch:3 | 0.117 - 0.413\n",
      "epoch:4 | 0.117 - 0.426\n",
      "epoch:5 | 0.117 - 0.426\n",
      "epoch:6 | 0.117 - 0.333\n",
      "epoch:7 | 0.117 - 0.424\n",
      "epoch:8 | 0.117 - 0.424\n",
      "epoch:9 | 0.117 - 0.429\n",
      "epoch:10 | 0.117 - 0.431\n",
      "epoch:11 | 0.117 - 0.432\n",
      "epoch:12 | 0.117 - 0.432\n",
      "epoch:13 | 0.117 - 0.432\n",
      "epoch:14 | 0.117 - 0.435\n",
      "epoch:15 | 0.117 - 0.434\n",
      "epoch:16 | 0.117 - 0.488\n",
      "epoch:17 | 0.117 - 0.521\n",
      "epoch:18 | 0.117 - 0.515\n",
      "epoch:19 | 0.117 - 0.529\n"
     ]
    },
    {
     "data": {
      "image/png": "[encoded data removed]",
      "text/plain": [
       "<Figure size 432x288 with 16 Axes>"
      ]
     },
     "metadata": {
      "needs_background": "light"
     },
     "output_type": "display_data"
    }
   ],
   "source": [
    "# coding: utf-8\n",
    "import sys, os\n",
    "sys.path.append(os.pardir)  # 부모 디렉터리의 파일을 가져올 수 있도록 설정\n",
    "import numpy as np\n",
    "import matplotlib.pyplot as plt\n",
    "from dataset.mnist import load_mnist\n",
    "from common.multi_layer_net_extend import MultiLayerNetExtend\n",
    "from common.optimizer import SGD, Adam\n",
    "\n",
    "(x_train, t_train), (x_test, t_test) = load_mnist(normalize=True)\n",
    "\n",
    "# 학습 데이터를 줄임\n",
    "x_train = x_train[:1000]\n",
    "t_train = t_train[:1000]\n",
    "\n",
    "max_epochs = 20\n",
    "train_size = x_train.shape[0]\n",
    "batch_size = 100\n",
    "learning_rate = 0.01\n",
    "\n",
    "\n",
    "def __train(weight_init_std):\n",
    "    bn_network = MultiLayerNetExtend(input_size=784, hidden_size_list=[100, 100, 100, 100, 100], output_size=10, \n",
    "                                    weight_init_std=weight_init_std, use_batchnorm=True)\n",
    "    network = MultiLayerNetExtend(input_size=784, hidden_size_list=[100, 100, 100, 100, 100], output_size=10,\n",
    "                                weight_init_std=weight_init_std)\n",
    "    optimizer = SGD(lr=learning_rate)\n",
    "    \n",
    "    train_acc_list = []\n",
    "    bn_train_acc_list = []\n",
    "    \n",
    "    iter_per_epoch = max(train_size / batch_size, 1)\n",
    "    epoch_cnt = 0\n",
    "    \n",
    "    for i in range(1000000000):\n",
    "        batch_mask = np.random.choice(train_size, batch_size)\n",
    "        x_batch = x_train[batch_mask]\n",
    "        t_batch = t_train[batch_mask]\n",
    "    \n",
    "        for _network in (bn_network, network):\n",
    "            grads = _network.gradient(x_batch, t_batch)\n",
    "            optimizer.update(_network.params, grads)\n",
    "    \n",
    "        if i % iter_per_epoch == 0:\n",
    "            train_acc = network.accuracy(x_train, t_train)\n",
    "            bn_train_acc = bn_network.accuracy(x_train, t_train)\n",
    "            train_acc_list.append(train_acc)\n",
    "            bn_train_acc_list.append(bn_train_acc)\n",
    "    \n",
    "            print(\"epoch:\" + str(epoch_cnt) + \" | \" + str(train_acc) + \" - \" + str(bn_train_acc))\n",
    "    \n",
    "            epoch_cnt += 1\n",
    "            if epoch_cnt >= max_epochs:\n",
    "                break\n",
    "                \n",
    "    return train_acc_list, bn_train_acc_list\n",
    "\n",
    "\n",
    "# 그래프 그리기==========\n",
    "weight_scale_list = np.logspace(0, -4, num=16)\n",
    "x = np.arange(max_epochs)\n",
    "\n",
    "for i, w in enumerate(weight_scale_list):\n",
    "    print( \"============== \" + str(i+1) + \"/16\" + \" ==============\")\n",
    "    train_acc_list, bn_train_acc_list = __train(w)\n",
    "    \n",
    "    plt.subplot(4,4,i+1)\n",
    "    plt.title(\"W:\" + str(w))\n",
    "    if i == 15:\n",
    "        plt.plot(x, bn_train_acc_list, label='Batch Normalization', markevery=2)\n",
    "        plt.plot(x, train_acc_list, linestyle = \"--\", label='Normal(without BatchNorm)', markevery=2)\n",
    "    else:\n",
    "        plt.plot(x, bn_train_acc_list, markevery=2)\n",
    "        plt.plot(x, train_acc_list, linestyle=\"--\", markevery=2)\n",
    "\n",
    "    plt.ylim(0, 1.0)\n",
    "    if i % 4:\n",
    "        plt.yticks([])\n",
    "    else:\n",
    "        plt.ylabel(\"accuracy\")\n",
    "    if i < 12:\n",
    "        plt.xticks([])\n",
    "    else:\n",
    "        plt.xlabel(\"epochs\")\n",
    "    plt.legend(loc='lower right')\n",
    "    \n",
    "plt.show()"
   ]
  },
  {
   "cell_type": "code",
   "execution_count": null,
   "metadata": {},
   "outputs": [],
   "source": []
  }
 ],
 "metadata": {
  "kernelspec": {
   "display_name": "base",
   "language": "python",
   "name": "python3"
  },
  "language_info": {
   "codemirror_mode": {
    "name": "ipython",
    "version": 3
   },
   "file_extension": ".py",
   "mimetype": "text/x-python",
   "name": "python",
   "nbconvert_exporter": "python",
   "pygments_lexer": "ipython3",
   "version": "3.9.12"
  },
  "orig_nbformat": 4
 },
 "nbformat": 4,
 "nbformat_minor": 2
}
